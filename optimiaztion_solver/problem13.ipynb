{
 "cells": [
  {
   "cell_type": "code",
   "execution_count": 2,
   "id": "e2a1f07d-23b5-4fba-ae0a-a5c8424fd3cb",
   "metadata": {},
   "outputs": [],
   "source": [
    "import cvxpy as cp"
   ]
  },
  {
   "cell_type": "code",
   "execution_count": 3,
   "id": "691b544a-977e-46e8-a23a-a725f0b33417",
   "metadata": {},
   "outputs": [],
   "source": [
    "# 변수 설정\n",
    "x1 = cp.Variable(nonneg = True) # the amount of solution A used\n",
    "x2 = cp.Variable(nonneg = True) # the amount of solution B used"
   ]
  },
  {
   "cell_type": "code",
   "execution_count": 4,
   "id": "1bcee75b-5c64-4713-9997-eb829618f967",
   "metadata": {},
   "outputs": [],
   "source": [
    "# 목적함수 설정\n",
    "obj = cp.Maximize(8*x1 + 10*x2) # maximize the profit"
   ]
  },
  {
   "cell_type": "code",
   "execution_count": 5,
   "id": "2f4cbb81-d9b7-4e88-b25a-2eccc2daa88c",
   "metadata": {},
   "outputs": [],
   "source": [
    "# 제약식 정의\n",
    "constraints = [x1 >= 30,\n",
    "               x2 >= 40,\n",
    "               x1 <= 150,\n",
    "               x2 <= 200,\n",
    "               0.5*x1 + 0.5*x2 <= 150,\n",
    "               0.6*x1 + 0.4*x2 <= 145]"
   ]
  },
  {
   "cell_type": "code",
   "execution_count": 6,
   "id": "a2f3fb22-0120-4a27-ab99-701105de731d",
   "metadata": {},
   "outputs": [],
   "source": [
    "# 최적화 모형 구성\n",
    "prob = cp.Problem(obj, constraints)"
   ]
  },
  {
   "cell_type": "code",
   "execution_count": 7,
   "id": "254e608f-ede3-4dea-8c27-3f28ca8eef63",
   "metadata": {},
   "outputs": [
    {
     "name": "stderr",
     "output_type": "stream",
     "text": [
      "C:\\Users\\yun15\\anaconda3\\Lib\\site-packages\\cvxpy\\reductions\\solvers\\solving_chain.py:336: FutureWarning: \n",
      "    Your problem is being solved with the ECOS solver by default. Starting in \n",
      "    CVXPY 1.5.0, Clarabel will be used as the default solver instead. To continue \n",
      "    using ECOS, specify the ECOS solver explicitly using the ``solver=cp.ECOS`` \n",
      "    argument to the ``problem.solve`` method.\n",
      "    \n",
      "  warnings.warn(ECOS_DEPRECATION_MSG, FutureWarning)\n"
     ]
    },
    {
     "data": {
      "text/plain": [
       "2799.9999996683405"
      ]
     },
     "execution_count": 7,
     "metadata": {},
     "output_type": "execute_result"
    }
   ],
   "source": [
    "# 디폴트 솔버로 최적화 모형 계산 \n",
    "prob.solve()"
   ]
  },
  {
   "cell_type": "code",
   "execution_count": 8,
   "id": "fd2a4010-8dda-4032-9e31-ecd7bf42a0d9",
   "metadata": {},
   "outputs": [
    {
     "name": "stdout",
     "output_type": "stream",
     "text": [
      "최적해 상태:  optimal\n",
      "최적값:  2799.9999996683405\n",
      "최적해:  100.0000000367313 199.99999993744902\n"
     ]
    }
   ],
   "source": [
    "# 결과 확인\n",
    "print('최적해 상태: ', prob.status)\n",
    "print('최적값: ', prob.value)\n",
    "print('최적해: ', x1.value, x2.value)"
   ]
  }
 ],
 "metadata": {
  "kernelspec": {
   "display_name": "Python 3 (ipykernel)",
   "language": "python",
   "name": "python3"
  },
  "language_info": {
   "codemirror_mode": {
    "name": "ipython",
    "version": 3
   },
   "file_extension": ".py",
   "mimetype": "text/x-python",
   "name": "python",
   "nbconvert_exporter": "python",
   "pygments_lexer": "ipython3",
   "version": "3.11.7"
  }
 },
 "nbformat": 4,
 "nbformat_minor": 5
}
