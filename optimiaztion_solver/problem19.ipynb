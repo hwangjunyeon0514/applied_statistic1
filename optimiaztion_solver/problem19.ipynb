{
 "cells": [
  {
   "cell_type": "code",
   "execution_count": 1,
   "id": "accd728f-b3cb-4ff5-90bb-d750714491d7",
   "metadata": {},
   "outputs": [],
   "source": [
    "import cvxpy as cp"
   ]
  },
  {
   "cell_type": "code",
   "execution_count": 2,
   "id": "53ca5588-b34e-4865-be1b-ed5925e3ed05",
   "metadata": {},
   "outputs": [],
   "source": [
    "# 변수 선언\n",
    "x1 = cp.Variable(nonneg=True) # the number of radio commercial used\n",
    "x2 = cp.Variable(nonneg=True) # the number of TV commercial used"
   ]
  },
  {
   "cell_type": "code",
   "execution_count": 3,
   "id": "7eca5138-a2d8-403f-a636-cb09b62d9fff",
   "metadata": {},
   "outputs": [],
   "source": [
    "# 목적 함수 정의\n",
    "obj = cp.Maximize(4500 + 2000*x1 + 3000*x2) # maximize reaching people"
   ]
  },
  {
   "cell_type": "code",
   "execution_count": 5,
   "id": "55bde509-d8f0-4919-9bcf-b8ba0c054eaf",
   "metadata": {},
   "outputs": [],
   "source": [
    "# 제약식 정의\n",
    "constraints = [300*x1 <= 0.8*(300*x1 + 2000*x2),\n",
    "               2000*x2 <= 0.8*(300*x1 + 2000*x2),\n",
    "               300*x1 + 2000*x2 <= 20000,\n",
    "               x1>=1, x2>=1]"
   ]
  },
  {
   "cell_type": "code",
   "execution_count": 6,
   "id": "4b8c5e49-982b-4dc7-abe2-c949bd03978e",
   "metadata": {},
   "outputs": [],
   "source": [
    "# 최적화 모형 구성\n",
    "prob = cp.Problem(obj, constraints)"
   ]
  },
  {
   "cell_type": "code",
   "execution_count": 7,
   "id": "255415b8-54ee-458d-87db-721a8dd0108f",
   "metadata": {},
   "outputs": [
    {
     "name": "stderr",
     "output_type": "stream",
     "text": [
      "C:\\Users\\yun15\\anaconda3\\Lib\\site-packages\\cvxpy\\reductions\\solvers\\solving_chain.py:336: FutureWarning: \n",
      "    Your problem is being solved with the ECOS solver by default. Starting in \n",
      "    CVXPY 1.5.0, Clarabel will be used as the default solver instead. To continue \n",
      "    using ECOS, specify the ECOS solver explicitly using the ``solver=cp.ECOS`` \n",
      "    argument to the ``problem.solve`` method.\n",
      "    \n",
      "  warnings.warn(ECOS_DEPRECATION_MSG, FutureWarning)\n"
     ]
    },
    {
     "data": {
      "text/plain": [
       "117166.66640490733"
      ]
     },
     "execution_count": 7,
     "metadata": {},
     "output_type": "execute_result"
    }
   ],
   "source": [
    "# 디폴트 솔버로 최적화 모형 계산\n",
    "prob.solve()"
   ]
  },
  {
   "cell_type": "code",
   "execution_count": 8,
   "id": "6d352327-dfea-42c8-a480-1b6e839235cc",
   "metadata": {},
   "outputs": [
    {
     "name": "stdout",
     "output_type": "stream",
     "text": [
      "최적해 상태:  optimal\n",
      "최적값:  117166.66640490733\n",
      "최적해:  53.333333201224825 2.0000000008192242\n"
     ]
    }
   ],
   "source": [
    "# 결과 확인\n",
    "print('최적해 상태: ', prob.status)\n",
    "print('최적값: ', prob.value)\n",
    "print('최적해: ', x1.value, x2.value)"
   ]
  }
 ],
 "metadata": {
  "kernelspec": {
   "display_name": "Python 3 (ipykernel)",
   "language": "python",
   "name": "python3"
  },
  "language_info": {
   "codemirror_mode": {
    "name": "ipython",
    "version": 3
   },
   "file_extension": ".py",
   "mimetype": "text/x-python",
   "name": "python",
   "nbconvert_exporter": "python",
   "pygments_lexer": "ipython3",
   "version": "3.11.7"
  }
 },
 "nbformat": 4,
 "nbformat_minor": 5
}
