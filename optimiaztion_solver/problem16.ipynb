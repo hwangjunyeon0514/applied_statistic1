{
 "cells": [
  {
   "cell_type": "code",
   "execution_count": 1,
   "id": "29da95c1-4aca-4185-b3bf-3e594d41552d",
   "metadata": {},
   "outputs": [],
   "source": [
    "import cvxpy as cp"
   ]
  },
  {
   "cell_type": "code",
   "execution_count": 2,
   "id": "74d96a28-a461-4653-bf45-b5e44f76554f",
   "metadata": {},
   "outputs": [],
   "source": [
    "# 변수 선언\n",
    "x1 = cp.Variable(nonneg=True) # the number of A type hats produced\n",
    "x2 = cp.Variable(nonneg=True) # the number of B type hats produced"
   ]
  },
  {
   "cell_type": "code",
   "execution_count": 3,
   "id": "6566b74b-b59a-4bc1-afc5-eb79d4813485",
   "metadata": {},
   "outputs": [],
   "source": [
    "# 목적 함수 정의\n",
    "obj = cp.Maximize(8*x1 + 5*x2) # maximize the profit"
   ]
  },
  {
   "cell_type": "code",
   "execution_count": 4,
   "id": "e96e368e-6ea3-40f2-b7a9-d510c413328d",
   "metadata": {},
   "outputs": [],
   "source": [
    "# 제약식 정의\n",
    "constraints = [x1<=150,\n",
    "               x2<=200,\n",
    "               2*x1 + x2 <= 400]"
   ]
  },
  {
   "cell_type": "code",
   "execution_count": 5,
   "id": "d3fe0570-b791-49d4-a542-a7e0655ba0af",
   "metadata": {},
   "outputs": [],
   "source": [
    "# 최적화 모형 구성\n",
    "prob = cp.Problem(obj, constraints)"
   ]
  },
  {
   "cell_type": "code",
   "execution_count": 6,
   "id": "39c1179a-40bf-4802-b1da-29a4505cc910",
   "metadata": {},
   "outputs": [
    {
     "name": "stderr",
     "output_type": "stream",
     "text": [
      "C:\\Users\\yun15\\anaconda3\\Lib\\site-packages\\cvxpy\\reductions\\solvers\\solving_chain.py:336: FutureWarning: \n",
      "    Your problem is being solved with the ECOS solver by default. Starting in \n",
      "    CVXPY 1.5.0, Clarabel will be used as the default solver instead. To continue \n",
      "    using ECOS, specify the ECOS solver explicitly using the ``solver=cp.ECOS`` \n",
      "    argument to the ``problem.solve`` method.\n",
      "    \n",
      "  warnings.warn(ECOS_DEPRECATION_MSG, FutureWarning)\n"
     ]
    },
    {
     "data": {
      "text/plain": [
       "1799.9999998229473"
      ]
     },
     "execution_count": 6,
     "metadata": {},
     "output_type": "execute_result"
    }
   ],
   "source": [
    "# 디폴트 솔버로 최적화 모형 계산\n",
    "prob.solve()"
   ]
  },
  {
   "cell_type": "code",
   "execution_count": 7,
   "id": "637d3dbb-7bf9-4e8d-a041-c063a7d8069c",
   "metadata": {},
   "outputs": [
    {
     "name": "stdout",
     "output_type": "stream",
     "text": [
      "최적해 상태:  optimal\n",
      "최적값:  1799.9999998229473\n",
      "최적해:  100.00000007629762 199.99999984251326\n"
     ]
    }
   ],
   "source": [
    "# 결과 확인\n",
    "print('최적해 상태: ', prob.status)\n",
    "print('최적값: ', prob.value)\n",
    "print('최적해: ', x1.value, x2.value)"
   ]
  }
 ],
 "metadata": {
  "kernelspec": {
   "display_name": "Python 3 (ipykernel)",
   "language": "python",
   "name": "python3"
  },
  "language_info": {
   "codemirror_mode": {
    "name": "ipython",
    "version": 3
   },
   "file_extension": ".py",
   "mimetype": "text/x-python",
   "name": "python",
   "nbconvert_exporter": "python",
   "pygments_lexer": "ipython3",
   "version": "3.11.7"
  }
 },
 "nbformat": 4,
 "nbformat_minor": 5
}
