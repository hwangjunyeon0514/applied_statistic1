{
 "cells": [
  {
   "cell_type": "code",
   "execution_count": 2,
   "id": "5366456a",
   "metadata": {},
   "outputs": [],
   "source": [
    "from sklearn.datasets import load_diabetes\n",
    "diabetes=load_diabetes()  # 당뇨병 데이터 사용"
   ]
  },
  {
   "cell_type": "code",
   "execution_count": 3,
   "id": "dc517df6",
   "metadata": {},
   "outputs": [
    {
     "data": {
      "text/plain": [
       "{'data': array([[ 0.03807591,  0.05068012,  0.06169621, ..., -0.00259226,\n",
       "          0.01990842, -0.01764613],\n",
       "        [-0.00188202, -0.04464164, -0.05147406, ..., -0.03949338,\n",
       "         -0.06832974, -0.09220405],\n",
       "        [ 0.08529891,  0.05068012,  0.04445121, ..., -0.00259226,\n",
       "          0.00286377, -0.02593034],\n",
       "        ...,\n",
       "        [ 0.04170844,  0.05068012, -0.01590626, ..., -0.01107952,\n",
       "         -0.04687948,  0.01549073],\n",
       "        [-0.04547248, -0.04464164,  0.03906215, ...,  0.02655962,\n",
       "          0.04452837, -0.02593034],\n",
       "        [-0.04547248, -0.04464164, -0.0730303 , ..., -0.03949338,\n",
       "         -0.00421986,  0.00306441]]),\n",
       " 'target': array([151.,  75., 141., 206., 135.,  97., 138.,  63., 110., 310., 101.,\n",
       "         69., 179., 185., 118., 171., 166., 144.,  97., 168.,  68.,  49.,\n",
       "         68., 245., 184., 202., 137.,  85., 131., 283., 129.,  59., 341.,\n",
       "         87.,  65., 102., 265., 276., 252.,  90., 100.,  55.,  61.,  92.,\n",
       "        259.,  53., 190., 142.,  75., 142., 155., 225.,  59., 104., 182.,\n",
       "        128.,  52.,  37., 170., 170.,  61., 144.,  52., 128.,  71., 163.,\n",
       "        150.,  97., 160., 178.,  48., 270., 202., 111.,  85.,  42., 170.,\n",
       "        200., 252., 113., 143.,  51.,  52., 210.,  65., 141.,  55., 134.,\n",
       "         42., 111.,  98., 164.,  48.,  96.,  90., 162., 150., 279.,  92.,\n",
       "         83., 128., 102., 302., 198.,  95.,  53., 134., 144., 232.,  81.,\n",
       "        104.,  59., 246., 297., 258., 229., 275., 281., 179., 200., 200.,\n",
       "        173., 180.,  84., 121., 161.,  99., 109., 115., 268., 274., 158.,\n",
       "        107.,  83., 103., 272.,  85., 280., 336., 281., 118., 317., 235.,\n",
       "         60., 174., 259., 178., 128.,  96., 126., 288.,  88., 292.,  71.,\n",
       "        197., 186.,  25.,  84.,  96., 195.,  53., 217., 172., 131., 214.,\n",
       "         59.,  70., 220., 268., 152.,  47.,  74., 295., 101., 151., 127.,\n",
       "        237., 225.,  81., 151., 107.,  64., 138., 185., 265., 101., 137.,\n",
       "        143., 141.,  79., 292., 178.,  91., 116.,  86., 122.,  72., 129.,\n",
       "        142.,  90., 158.,  39., 196., 222., 277.,  99., 196., 202., 155.,\n",
       "         77., 191.,  70.,  73.,  49.,  65., 263., 248., 296., 214., 185.,\n",
       "         78.,  93., 252., 150.,  77., 208.,  77., 108., 160.,  53., 220.,\n",
       "        154., 259.,  90., 246., 124.,  67.,  72., 257., 262., 275., 177.,\n",
       "         71.,  47., 187., 125.,  78.,  51., 258., 215., 303., 243.,  91.,\n",
       "        150., 310., 153., 346.,  63.,  89.,  50.,  39., 103., 308., 116.,\n",
       "        145.,  74.,  45., 115., 264.,  87., 202., 127., 182., 241.,  66.,\n",
       "         94., 283.,  64., 102., 200., 265.,  94., 230., 181., 156., 233.,\n",
       "         60., 219.,  80.,  68., 332., 248.,  84., 200.,  55.,  85.,  89.,\n",
       "         31., 129.,  83., 275.,  65., 198., 236., 253., 124.,  44., 172.,\n",
       "        114., 142., 109., 180., 144., 163., 147.,  97., 220., 190., 109.,\n",
       "        191., 122., 230., 242., 248., 249., 192., 131., 237.,  78., 135.,\n",
       "        244., 199., 270., 164.,  72.,  96., 306.,  91., 214.,  95., 216.,\n",
       "        263., 178., 113., 200., 139., 139.,  88., 148.,  88., 243.,  71.,\n",
       "         77., 109., 272.,  60.,  54., 221.,  90., 311., 281., 182., 321.,\n",
       "         58., 262., 206., 233., 242., 123., 167.,  63., 197.,  71., 168.,\n",
       "        140., 217., 121., 235., 245.,  40.,  52., 104., 132.,  88.,  69.,\n",
       "        219.,  72., 201., 110.,  51., 277.,  63., 118.,  69., 273., 258.,\n",
       "         43., 198., 242., 232., 175.,  93., 168., 275., 293., 281.,  72.,\n",
       "        140., 189., 181., 209., 136., 261., 113., 131., 174., 257.,  55.,\n",
       "         84.,  42., 146., 212., 233.,  91., 111., 152., 120.,  67., 310.,\n",
       "         94., 183.,  66., 173.,  72.,  49.,  64.,  48., 178., 104., 132.,\n",
       "        220.,  57.]),\n",
       " 'frame': None,\n",
       " 'DESCR': '.. _diabetes_dataset:\\n\\nDiabetes dataset\\n----------------\\n\\nTen baseline variables, age, sex, body mass index, average blood\\npressure, and six blood serum measurements were obtained for each of n =\\n442 diabetes patients, as well as the response of interest, a\\nquantitative measure of disease progression one year after baseline.\\n\\n**Data Set Characteristics:**\\n\\n  :Number of Instances: 442\\n\\n  :Number of Attributes: First 10 columns are numeric predictive values\\n\\n  :Target: Column 11 is a quantitative measure of disease progression one year after baseline\\n\\n  :Attribute Information:\\n      - age     age in years\\n      - sex\\n      - bmi     body mass index\\n      - bp      average blood pressure\\n      - s1      tc, total serum cholesterol\\n      - s2      ldl, low-density lipoproteins\\n      - s3      hdl, high-density lipoproteins\\n      - s4      tch, total cholesterol / HDL\\n      - s5      ltg, possibly log of serum triglycerides level\\n      - s6      glu, blood sugar level\\n\\nNote: Each of these 10 feature variables have been mean centered and scaled by the standard deviation times `n_samples` (i.e. the sum of squares of each column totals 1).\\n\\nSource URL:\\nhttps://www4.stat.ncsu.edu/~boos/var.select/diabetes.html\\n\\nFor more information see:\\nBradley Efron, Trevor Hastie, Iain Johnstone and Robert Tibshirani (2004) \"Least Angle Regression,\" Annals of Statistics (with discussion), 407-499.\\n(https://web.stanford.edu/~hastie/Papers/LARS/LeastAngle_2002.pdf)',\n",
       " 'feature_names': ['age',\n",
       "  'sex',\n",
       "  'bmi',\n",
       "  'bp',\n",
       "  's1',\n",
       "  's2',\n",
       "  's3',\n",
       "  's4',\n",
       "  's5',\n",
       "  's6'],\n",
       " 'data_filename': 'diabetes_data.csv.gz',\n",
       " 'target_filename': 'diabetes_target.csv.gz',\n",
       " 'data_module': 'sklearn.datasets.data'}"
      ]
     },
     "execution_count": 3,
     "metadata": {},
     "output_type": "execute_result"
    }
   ],
   "source": [
    "diabetes \n",
    "'''\n",
    "- data => (442,10) 크기의 ndarray, 입력값\n",
    "- target => (442, ) 크기의 ndarray, 타깃\n",
    "- feature_names => data의 각 열의 특징 이름\n",
    "- frame => (442,11)크기의 데이터 프레임(호출할 때 인자로 받은 as_frame=True일 때만 접근 가능)\n",
    "- DESCR => 데이터셋의 설명\n",
    "- data_filename => data의 위치경로\n",
    "- target_filename => target의 위치경로\n",
    "- (data,target) => 입력값과 타깃 튜플 (return_X_y=True일 때만 접근 가능)\n",
    "'''"
   ]
  },
  {
   "cell_type": "code",
   "execution_count": 4,
   "id": "246e5587",
   "metadata": {},
   "outputs": [],
   "source": [
    "df_x=diabetes['data']\n",
    "df_y=diabetes['target'] #array 형식"
   ]
  },
  {
   "cell_type": "code",
   "execution_count": 13,
   "id": "5cf37999",
   "metadata": {},
   "outputs": [],
   "source": [
    "import numpy as np\n",
    "df_x=np.array(df_x) \n",
    "df_y=np.array(df_y) # numpy array로 변환"
   ]
  },
  {
   "cell_type": "code",
   "execution_count": 16,
   "id": "61217c83",
   "metadata": {},
   "outputs": [
    {
     "name": "stdout",
     "output_type": "stream",
     "text": [
      "(353, 10) (353,)\n",
      "(89, 10) (89,)\n"
     ]
    }
   ],
   "source": [
    "from sklearn.model_selection import train_test_split\n",
    "X_train, X_test, y_train, y_test = train_test_split(df_x, df_y, test_size=0.2, random_state=35)\n",
    "print(X_train.shape, y_train.shape)\n",
    "print(X_test.shape, y_test.shape) # dx_x와 dy_y 데이터를 각각 train 데이터와 test 데이터로 분리"
   ]
  },
  {
   "cell_type": "code",
   "execution_count": 38,
   "id": "a4e1c8c8",
   "metadata": {},
   "outputs": [],
   "source": [
    "w=np.random.rand(10)\n",
    "b=np.random.rand() # 입력 데이터 개수에 맞는 가중치 W와 b를 준비(랜덤 값)"
   ]
  },
  {
   "cell_type": "code",
   "execution_count": 39,
   "id": "41bf4889",
   "metadata": {},
   "outputs": [],
   "source": [
    "def model(X,w,b):\n",
    "    predictions=0\n",
    "    for i in range(10):\n",
    "        predictions += X[:,i]*w[i]\n",
    "    predictions += b\n",
    "    return predictions # 모델 함수 구현"
   ]
  },
  {
   "cell_type": "code",
   "execution_count": 40,
   "id": "b0799675",
   "metadata": {},
   "outputs": [],
   "source": [
    "def MSE(a,b):\n",
    "    mse = ((a-b)**2).mean()\n",
    "    return mse # MSE 정의"
   ]
  },
  {
   "cell_type": "code",
   "execution_count": 41,
   "id": "9fe50cf4",
   "metadata": {},
   "outputs": [],
   "source": [
    "def loss(X,w,b,y):\n",
    "    predictions = model(X,w,b)\n",
    "    L = MSE(predictions,y)\n",
    "    return L    # 손실 함수 정의"
   ]
  },
  {
   "cell_type": "code",
   "execution_count": 42,
   "id": "81c107f7",
   "metadata": {},
   "outputs": [],
   "source": [
    "def gradient(X, w, b, y):\n",
    "    # N은 데이터 포인트의 개수\n",
    "    N = len(y)\n",
    "    \n",
    "    # y_pred 준비\n",
    "    y_pred = model(X, w, b)\n",
    "    \n",
    "    # 공식에 맞게 gradient 계산\n",
    "    dW = 1/N * 2 * X.T.dot(y_pred - y)\n",
    "        \n",
    "    # b의 gradient 계산\n",
    "    db = 2 * (y_pred - y).mean()\n",
    "    return dW, db # 기울기를 계산하는 gradient 함수 계산"
   ]
  },
  {
   "cell_type": "code",
   "execution_count": 43,
   "id": "2a518ecf",
   "metadata": {},
   "outputs": [],
   "source": [
    "LEARNING_RATE = 0.01 # 학습률을 0.01로 설정"
   ]
  },
  {
   "cell_type": "code",
   "execution_count": 45,
   "id": "69765f41",
   "metadata": {},
   "outputs": [
    {
     "name": "stdout",
     "output_type": "stream",
     "text": [
      "Iteration 100 : Loss 5253.3963\n",
      "Iteration 200 : Loss 5198.6109\n",
      "Iteration 300 : Loss 5145.4665\n",
      "Iteration 400 : Loss 5093.9083\n",
      "Iteration 500 : Loss 5043.8836\n",
      "Iteration 600 : Loss 4995.3411\n",
      "Iteration 700 : Loss 4948.2317\n",
      "Iteration 800 : Loss 4902.5078\n",
      "Iteration 900 : Loss 4858.1234\n",
      "Iteration 1000 : Loss 4815.0342\n"
     ]
    }
   ],
   "source": [
    "losses = []\n",
    "for i in range(1, 1001):\n",
    "    dw, db = gradient(X_train, w, b, y_train)\n",
    "    w -= LEARNING_RATE*dw\n",
    "    b -= LEARNING_RATE*db\n",
    "    L = loss(X_train, w, b, y_train)\n",
    "    losses.append(L)\n",
    "    if i % 100 == 0:\n",
    "        print('Iteration %d : Loss %0.4f'%(i, L)) # 모델 학습하기, 하지만 Loss 값이 약 5309로 상당히 크다 -> 학습률을 높이자"
   ]
  },
  {
   "cell_type": "code",
   "execution_count": 46,
   "id": "8a91960f",
   "metadata": {},
   "outputs": [],
   "source": [
    "LEARNING_RATE=0.1 # 학습률을 10배 높임"
   ]
  },
  {
   "cell_type": "code",
   "execution_count": 47,
   "id": "c538f07c",
   "metadata": {},
   "outputs": [
    {
     "name": "stdout",
     "output_type": "stream",
     "text": [
      "Iteration 100 : Loss 4446.4435\n",
      "Iteration 200 : Loss 4168.5572\n",
      "Iteration 300 : Loss 3956.0280\n",
      "Iteration 400 : Loss 3790.9398\n",
      "Iteration 500 : Loss 3660.5917\n",
      "Iteration 600 : Loss 3555.9466\n",
      "Iteration 700 : Loss 3470.5451\n",
      "Iteration 800 : Loss 3399.7444\n",
      "Iteration 900 : Loss 3340.1852\n",
      "Iteration 1000 : Loss 3289.4168\n"
     ]
    }
   ],
   "source": [
    "losses = []\n",
    "for i in range(1, 1001):\n",
    "    dw, db = gradient(X_train, w, b, y_train)\n",
    "    w -= LEARNING_RATE*dw\n",
    "    b -= LEARNING_RATE*db\n",
    "    L = loss(X_train, w, b, y_train)\n",
    "    losses.append(L)\n",
    "    if i % 100 == 0:\n",
    "        print('Iteration %d : Loss %0.4f'%(i, L)) # 학습률이 0.01일때, Loss 값이 약 3289로 아직 상당히 높다 -> 학습률 높이기"
   ]
  },
  {
   "cell_type": "code",
   "execution_count": 48,
   "id": "24a0b995",
   "metadata": {},
   "outputs": [],
   "source": [
    "LEARNING_RATE=1 # 학습률 10배 높임"
   ]
  },
  {
   "cell_type": "code",
   "execution_count": 49,
   "id": "b7f06051",
   "metadata": {},
   "outputs": [
    {
     "name": "stdout",
     "output_type": "stream",
     "text": [
      "Iteration 100 : Loss 3020.7098\n",
      "Iteration 200 : Loss 2923.8307\n",
      "Iteration 300 : Loss 2883.7091\n",
      "Iteration 400 : Loss 2866.0485\n",
      "Iteration 500 : Loss 2857.8002\n",
      "Iteration 600 : Loss 2853.6734\n",
      "Iteration 700 : Loss 2851.4307\n",
      "Iteration 800 : Loss 2850.0893\n",
      "Iteration 900 : Loss 2849.2000\n",
      "Iteration 1000 : Loss 2848.5488\n"
     ]
    }
   ],
   "source": [
    "losses = []\n",
    "for i in range(1, 1001):\n",
    "    dw, db = gradient(X_train, w, b, y_train)\n",
    "    w -= LEARNING_RATE*dw\n",
    "    b -= LEARNING_RATE*db\n",
    "    L = loss(X_train, w, b, y_train)\n",
    "    losses.append(L)\n",
    "    if i % 100 == 0:\n",
    "        print('Iteration %d : Loss %0.4f'%(i, L)) # 학습률이 1일때, Loss 값이 약 2848로 목표치인 3000보다 낮아졌다 -> 성공"
   ]
  },
  {
   "cell_type": "code",
   "execution_count": 50,
   "id": "6d3e2b61",
   "metadata": {},
   "outputs": [
    {
     "data": {
      "image/png": "[encoded data removed]",
      "text/plain": [
       "<Figure size 432x288 with 1 Axes>"
      ]
     },
     "metadata": {
      "needs_background": "light"
     },
     "output_type": "display_data"
    }
   ],
   "source": [
    "import matplotlib.pyplot as plt\n",
    "plt.plot(losses)\n",
    "plt.show() # 손실 함수 그래프를 보니 1000번 학습이상부터는 크게 loss가 내려가지는 않음, 하지만 한번 2000번 학습 시켜보자"
   ]
  },
  {
   "cell_type": "code",
   "execution_count": 51,
   "id": "df2ee46f",
   "metadata": {},
   "outputs": [
    {
     "name": "stdout",
     "output_type": "stream",
     "text": [
      "Iteration 100 : Loss 2848.0292\n",
      "Iteration 200 : Loss 2847.5856\n",
      "Iteration 300 : Loss 2847.1877\n",
      "Iteration 400 : Loss 2846.8184\n",
      "Iteration 500 : Loss 2846.4677\n",
      "Iteration 600 : Loss 2846.1296\n",
      "Iteration 700 : Loss 2845.8005\n",
      "Iteration 800 : Loss 2845.4780\n",
      "Iteration 900 : Loss 2845.1608\n",
      "Iteration 1000 : Loss 2844.8478\n",
      "Iteration 1100 : Loss 2844.5385\n",
      "Iteration 1200 : Loss 2844.2326\n",
      "Iteration 1300 : Loss 2843.9296\n",
      "Iteration 1400 : Loss 2843.6296\n",
      "Iteration 1500 : Loss 2843.3322\n",
      "Iteration 1600 : Loss 2843.0376\n",
      "Iteration 1700 : Loss 2842.7455\n",
      "Iteration 1800 : Loss 2842.4559\n",
      "Iteration 1900 : Loss 2842.1688\n",
      "Iteration 2000 : Loss 2841.8842\n"
     ]
    }
   ],
   "source": [
    "losses = []\n",
    "for i in range(1, 2001):\n",
    "    dw, db = gradient(X_train, w, b, y_train)\n",
    "    w -= LEARNING_RATE*dw\n",
    "    b -= LEARNING_RATE*db\n",
    "    L = loss(X_train, w, b, y_train)\n",
    "    losses.append(L)\n",
    "    if i % 100 == 0:\n",
    "        print('Iteration %d : Loss %0.4f'%(i, L)) # 2000번 학습시 loss값이 약 2841로 2848때보다 내려가기는 했지만 크게 내려가지는 않음."
   ]
  },
  {
   "cell_type": "code",
   "execution_count": 53,
   "id": "3053776f",
   "metadata": {},
   "outputs": [
    {
     "data": {
      "text/plain": [
       "3029.372785130432"
      ]
     },
     "execution_count": 53,
     "metadata": {},
     "output_type": "execute_result"
    }
   ],
   "source": [
    "mse = loss(X_test,w,b,y_test)\n",
    "mse # test 데이터에 대한 loss 값을 계산하여 성능 확인"
   ]
  },
  {
   "cell_type": "code",
   "execution_count": 56,
   "id": "4e5cd724",
   "metadata": {},
   "outputs": [
    {
     "data": {
      "text/plain": [
       "'\\nx축에는 X 데이터의 첫 번째 컬럼을, \\ny축에는 정답인 target 데이터를 넣어서 모델이 예측한 데이터를 시각화\\n'"
      ]
     },
     "execution_count": 56,
     "metadata": {},
     "output_type": "execute_result"
    },
    {
     "data": {
      "image/png": "[encoded data removed]",
      "text/plain": [
       "<Figure size 432x288 with 1 Axes>"
      ]
     },
     "metadata": {
      "needs_background": "light"
     },
     "output_type": "display_data"
    }
   ],
   "source": [
    "plt.scatter(X_test[:,0], y_test)\n",
    "prediction = model(X_test, w, b)\n",
    "plt.scatter(X_test[:,0], prediction)\n",
    "'''\n",
    "x축에는 X 데이터의 첫 번째 컬럼을, \n",
    "y축에는 정답인 target 데이터를 넣어서 모델이 예측한 데이터를 시각화\n",
    "'''"
   ]
  },
  {
   "cell_type": "code",
   "execution_count": null,
   "id": "4cdb1ee1",
   "metadata": {},
   "outputs": [],
   "source": []
  }
 ],
 "metadata": {
  "kernelspec": {
   "display_name": "Python 3 (ipykernel)",
   "language": "python",
   "name": "python3"
  },
  "language_info": {
   "codemirror_mode": {
    "name": "ipython",
    "version": 3
   },
   "file_extension": ".py",
   "mimetype": "text/x-python",
   "name": "python",
   "nbconvert_exporter": "python",
   "pygments_lexer": "ipython3",
   "version": "3.9.7"
  }
 },
 "nbformat": 4,
 "nbformat_minor": 5
}
